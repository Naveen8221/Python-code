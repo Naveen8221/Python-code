{
 "cells": [
  {
   "cell_type": "markdown",
   "id": "5e85c5af",
   "metadata": {},
   "source": [
    "# Pandas\n"
   ]
  },
  {
   "cell_type": "markdown",
   "id": "3ad0e84a",
   "metadata": {},
   "source": [
    "# import libraries"
   ]
  },
  {
   "cell_type": "code",
   "execution_count": 3,
   "id": "4442fb20",
   "metadata": {},
   "outputs": [],
   "source": [
    "import pandas as pd \n",
    "import numpy as np\n",
    "import warnings\n",
    "warnings.filterwarnings('ignore')"
   ]
  },
  {
   "cell_type": "markdown",
   "id": "8c24a53c",
   "metadata": {},
   "source": [
    "# Check pandas version "
   ]
  },
  {
   "cell_type": "code",
   "execution_count": 4,
   "id": "ffcb22e7",
   "metadata": {},
   "outputs": [
    {
     "name": "stdout",
     "output_type": "stream",
     "text": [
      "1.4.2\n"
     ]
    }
   ],
   "source": [
    "print(pd.__version__)"
   ]
  },
  {
   "cell_type": "markdown",
   "id": "dc637dc0",
   "metadata": {},
   "source": [
    "# Create empty series"
   ]
  },
  {
   "cell_type": "code",
   "execution_count": 5,
   "id": "1bff0ec2",
   "metadata": {},
   "outputs": [
    {
     "data": {
      "text/plain": [
       "Series([], dtype: float64)"
      ]
     },
     "execution_count": 5,
     "metadata": {},
     "output_type": "execute_result"
    }
   ],
   "source": [
    "a=pd.Series()\n",
    "a"
   ]
  },
  {
   "cell_type": "markdown",
   "id": "b2c2b912",
   "metadata": {},
   "source": [
    "# Create series from numpy array"
   ]
  },
  {
   "cell_type": "code",
   "execution_count": 6,
   "id": "65b6e283",
   "metadata": {},
   "outputs": [
    {
     "data": {
      "text/plain": [
       "0    11\n",
       "1    12\n",
       "2    13\n",
       "3     4\n",
       "4     5\n",
       "5    61\n",
       "6    71\n",
       "dtype: int32"
      ]
     },
     "execution_count": 6,
     "metadata": {},
     "output_type": "execute_result"
    }
   ],
   "source": [
    "a=np.array([11,12,13,4,5,61,71])\n",
    "v=pd.Series(a)\n",
    "v"
   ]
  },
  {
   "cell_type": "code",
   "execution_count": 7,
   "id": "099acff2",
   "metadata": {},
   "outputs": [
    {
     "data": {
      "text/plain": [
       "array([11, 12, 13,  4,  5, 61, 71])"
      ]
     },
     "execution_count": 7,
     "metadata": {},
     "output_type": "execute_result"
    }
   ],
   "source": [
    "a"
   ]
  },
  {
   "cell_type": "code",
   "execution_count": 7,
   "id": "773fd238",
   "metadata": {},
   "outputs": [
    {
     "data": {
      "text/plain": [
       "numpy.ndarray"
      ]
     },
     "execution_count": 7,
     "metadata": {},
     "output_type": "execute_result"
    }
   ],
   "source": [
    "type(a)"
   ]
  },
  {
   "cell_type": "code",
   "execution_count": 8,
   "id": "16188c8d",
   "metadata": {},
   "outputs": [
    {
     "data": {
      "text/plain": [
       "pandas.core.series.Series"
      ]
     },
     "execution_count": 8,
     "metadata": {},
     "output_type": "execute_result"
    }
   ],
   "source": [
    "type(v)"
   ]
  },
  {
   "cell_type": "markdown",
   "id": "0fbfd2f4",
   "metadata": {},
   "source": [
    "# Create series from list"
   ]
  },
  {
   "cell_type": "code",
   "execution_count": 9,
   "id": "1383d840",
   "metadata": {},
   "outputs": [
    {
     "data": {
      "text/plain": [
       "a    1\n",
       "b    2\n",
       "c    3\n",
       "dtype: int64"
      ]
     },
     "execution_count": 9,
     "metadata": {},
     "output_type": "execute_result"
    }
   ],
   "source": [
    "s=pd.Series([1,2,3],index=['a','b','c'])\n",
    "s"
   ]
  },
  {
   "cell_type": "code",
   "execution_count": 10,
   "id": "14ea13ef",
   "metadata": {},
   "outputs": [
    {
     "data": {
      "text/plain": [
       "0    1\n",
       "1    2\n",
       "2    3\n",
       "dtype: int64"
      ]
     },
     "execution_count": 10,
     "metadata": {},
     "output_type": "execute_result"
    }
   ],
   "source": [
    "s1=pd.Series([1,2,3])\n",
    "s1"
   ]
  },
  {
   "cell_type": "markdown",
   "id": "ebc26bba",
   "metadata": {},
   "source": [
    "# Modifying index"
   ]
  },
  {
   "cell_type": "code",
   "execution_count": 11,
   "id": "0aa68a03",
   "metadata": {},
   "outputs": [
    {
     "data": {
      "text/plain": [
       "0    11\n",
       "1    12\n",
       "2    13\n",
       "3     4\n",
       "4     5\n",
       "5    61\n",
       "6    71\n",
       "dtype: int32"
      ]
     },
     "execution_count": 11,
     "metadata": {},
     "output_type": "execute_result"
    }
   ],
   "source": [
    "v"
   ]
  },
  {
   "cell_type": "code",
   "execution_count": 12,
   "id": "a523f844",
   "metadata": {},
   "outputs": [
    {
     "data": {
      "text/plain": [
       "a    11\n",
       "b    12\n",
       "c    13\n",
       "d     4\n",
       "e     5\n",
       "f    61\n",
       "g    71\n",
       "dtype: int32"
      ]
     },
     "execution_count": 12,
     "metadata": {},
     "output_type": "execute_result"
    }
   ],
   "source": [
    "v.index=['a','b','c','d','e','f','g']\n",
    "v"
   ]
  },
  {
   "cell_type": "markdown",
   "id": "eaa7406c",
   "metadata": {},
   "source": [
    "# create series using random and range function\n"
   ]
  },
  {
   "cell_type": "code",
   "execution_count": 14,
   "id": "a6ca96de",
   "metadata": {},
   "outputs": [
    {
     "data": {
      "text/plain": [
       "array([0.06669157, 0.76003291, 0.49398844, 0.92859482, 0.45993545,\n",
       "       0.03024713, 0.92630976, 0.26512016, 0.06343299, 0.90282421,\n",
       "       0.10463064, 0.63733494])"
      ]
     },
     "execution_count": 14,
     "metadata": {},
     "output_type": "execute_result"
    }
   ],
   "source": [
    "v1=np.random.random(12)\n",
    "v1"
   ]
  },
  {
   "cell_type": "code",
   "execution_count": 20,
   "id": "f64b8d30",
   "metadata": {},
   "outputs": [
    {
     "data": {
      "text/plain": [
       "array([ 2,  3,  4,  5,  6,  7,  8,  9, 10, 11, 12, 13])"
      ]
     },
     "execution_count": 20,
     "metadata": {},
     "output_type": "execute_result"
    }
   ],
   "source": [
    "v2=np.arange(2,14)\n",
    "v2"
   ]
  },
  {
   "cell_type": "code",
   "execution_count": 18,
   "id": "81bd8019",
   "metadata": {},
   "outputs": [
    {
     "data": {
      "text/plain": [
       "2     0.066692\n",
       "3     0.760033\n",
       "4     0.493988\n",
       "5     0.928595\n",
       "6     0.459935\n",
       "7     0.030247\n",
       "8     0.926310\n",
       "9     0.265120\n",
       "10    0.063433\n",
       "11    0.902824\n",
       "12    0.104631\n",
       "13    0.637335\n",
       "dtype: float64"
      ]
     },
     "execution_count": 18,
     "metadata": {},
     "output_type": "execute_result"
    }
   ],
   "source": [
    "s1=pd.Series(v1,v2)\n",
    "s1"
   ]
  },
  {
   "cell_type": "markdown",
   "id": "c1124be8",
   "metadata": {},
   "source": [
    "# create series from dictionary "
   ]
  },
  {
   "cell_type": "code",
   "execution_count": 22,
   "id": "357d6944",
   "metadata": {},
   "outputs": [
    {
     "data": {
      "text/plain": [
       "a    10\n",
       "b    20\n",
       "c     3\n",
       "d    40\n",
       "dtype: int64"
      ]
     },
     "execution_count": 22,
     "metadata": {},
     "output_type": "execute_result"
    }
   ],
   "source": [
    "d={'a':10,'b':20,'c':3,'d':40}\n",
    "s1=pd.Series(d)\n",
    "s1"
   ]
  },
  {
   "cell_type": "markdown",
   "id": "dc159c1e",
   "metadata": {},
   "source": [
    "# create series from Scalar"
   ]
  },
  {
   "cell_type": "code",
   "execution_count": 23,
   "id": "7d6d61f8",
   "metadata": {},
   "outputs": [
    {
     "data": {
      "text/plain": [
       "10    34\n",
       "11    34\n",
       "12    34\n",
       "13    34\n",
       "dtype: int64"
      ]
     },
     "execution_count": 23,
     "metadata": {},
     "output_type": "execute_result"
    }
   ],
   "source": [
    "pd.Series(34,index=[10,11,12,13])"
   ]
  },
  {
   "cell_type": "code",
   "execution_count": 24,
   "id": "1bb691dd",
   "metadata": {},
   "outputs": [
    {
     "data": {
      "text/plain": [
       "0    45\n",
       "dtype: int64"
      ]
     },
     "execution_count": 24,
     "metadata": {},
     "output_type": "execute_result"
    }
   ],
   "source": [
    "pd.Series(45)"
   ]
  },
  {
   "cell_type": "code",
   "execution_count": null,
   "id": "f6c5e298",
   "metadata": {},
   "outputs": [],
   "source": []
  }
 ],
 "metadata": {
  "kernelspec": {
   "display_name": "Python 3 (ipykernel)",
   "language": "python",
   "name": "python3"
  },
  "language_info": {
   "codemirror_mode": {
    "name": "ipython",
    "version": 3
   },
   "file_extension": ".py",
   "mimetype": "text/x-python",
   "name": "python",
   "nbconvert_exporter": "python",
   "pygments_lexer": "ipython3",
   "version": "3.9.12"
  }
 },
 "nbformat": 4,
 "nbformat_minor": 5
}
