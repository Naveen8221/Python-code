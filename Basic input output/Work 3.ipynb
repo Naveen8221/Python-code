{
 "cells": [
  {
   "cell_type": "code",
   "execution_count": 1,
   "id": "db90aaed",
   "metadata": {},
   "outputs": [
    {
     "name": "stdout",
     "output_type": "stream",
     "text": [
      "Enter the number9\n",
      "September\n"
     ]
    }
   ],
   "source": [
    "#Enter a number between (1-12) and print respective month.\n",
    "num=int(input(\"Enter the number\"))\n",
    "if num==1:\n",
    "    print('january')\n",
    "elif num==2:\n",
    "    print(\"February\")\n",
    "elif num==3:\n",
    "    print(\"March\")\n",
    "elif num==4:\n",
    "    print(\"April\")\n",
    "elif num==5:\n",
    "    print(\"May\")\n",
    "elif num==6:\n",
    "    print(\"June\")\n",
    "elif num==7:\n",
    "    print(\"July\")\n",
    "elif num==8:\n",
    "    print(\"August\")\n",
    "elif num==9:\n",
    "    print(\"September\")\n",
    "elif num==10:\n",
    "    print(\"October\")\n",
    "elif num==11:\n",
    "    print(\"November\")\n",
    "elif num==12:\n",
    "    print(\"December\")  \n",
    "else:\n",
    "    print(\"not valid\")"
   ]
  },
  {
   "cell_type": "code",
   "execution_count": 2,
   "id": "336a42bc",
   "metadata": {},
   "outputs": [
    {
     "name": "stdout",
     "output_type": "stream",
     "text": [
      "4\n",
      "Enter the number10\n",
      "Enter the number2\n",
      "Division\n",
      "5.0\n"
     ]
    }
   ],
   "source": [
    "# Enter a number between (1-4) and perform operations Add.,Sub.,Mul.,Div.\n",
    "enter=int(input())\n",
    "num1=int(input(\"Enter the number\"))\n",
    "num2=int(input(\"Enter the number\"))\n",
    "if enter == 1:\n",
    "    print(\"Addition\")\n",
    "    num3=num1+num2\n",
    "    print(num3)\n",
    "elif enter  == 2:\n",
    "    print(\"Subtraction\")\n",
    "    num3=num1-num2\n",
    "    print(num3)\n",
    "elif enter == 3:\n",
    "    print(\"Multiplication\")\n",
    "    num3=num1*num2\n",
    "    print(num3)\n",
    "elif enter == 4:\n",
    "    print(\"Division\")\n",
    "    num3=num1/num2\n",
    "    print(num3)\n",
    "else:\n",
    "    print(\"not valid\")"
   ]
  }
 ],
 "metadata": {
  "kernelspec": {
   "display_name": "Python 3 (ipykernel)",
   "language": "python",
   "name": "python3"
  },
  "language_info": {
   "codemirror_mode": {
    "name": "ipython",
    "version": 3
   },
   "file_extension": ".py",
   "mimetype": "text/x-python",
   "name": "python",
   "nbconvert_exporter": "python",
   "pygments_lexer": "ipython3",
   "version": "3.9.12"
  }
 },
 "nbformat": 4,
 "nbformat_minor": 5
}
