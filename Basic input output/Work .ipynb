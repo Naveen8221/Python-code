{
 "cells": [
  {
   "cell_type": "code",
   "execution_count": 6,
   "id": "35953b7c",
   "metadata": {},
   "outputs": [
    {
     "name": "stdout",
     "output_type": "stream",
     "text": [
      "C\n"
     ]
    }
   ],
   "source": [
    "# Frist Character in string\n",
    "Process=\"Computer\"\n",
    "print(Process[0])\n"
   ]
  },
  {
   "cell_type": "code",
   "execution_count": 11,
   "id": "56b26ea1",
   "metadata": {},
   "outputs": [
    {
     "name": "stdout",
     "output_type": "stream",
     "text": [
      "14\n"
     ]
    }
   ],
   "source": [
    "#Last Character in string using len function\n",
    "process=\"Enter the Data\"\n",
    "print(len(process))"
   ]
  },
  {
   "cell_type": "code",
   "execution_count": 2,
   "id": "01cdabc7",
   "metadata": {},
   "outputs": [
    {
     "name": "stdout",
     "output_type": "stream",
     "text": [
      "a\n"
     ]
    }
   ],
   "source": [
    "# Last Character in string\n",
    "process='Enter the Data'\n",
    "print(process[13])"
   ]
  },
  {
   "cell_type": "code",
   "execution_count": 12,
   "id": "e87af4c1",
   "metadata": {},
   "outputs": [
    {
     "name": "stdout",
     "output_type": "stream",
     "text": [
      "n\n"
     ]
    }
   ],
   "source": [
    "# Fetch the 7th element of the string \n",
    "Data=\"We can not update because it is immatuable\"\n",
    "print(Data[7])"
   ]
  },
  {
   "cell_type": "code",
   "execution_count": 13,
   "id": "d58cdf8d",
   "metadata": {},
   "outputs": [
    {
     "name": "stdout",
     "output_type": "stream",
     "text": [
      "We ca\n"
     ]
    }
   ],
   "source": [
    "#Fetch all Characters from 0 to 5 index location excliding the character at loc 5.\n",
    "Data=\"We can not update because it is immatuable\"\n",
    "print(Data[0:5])"
   ]
  },
  {
   "cell_type": "code",
   "execution_count": 4,
   "id": "80b45c0a",
   "metadata": {},
   "outputs": [
    {
     "data": {
      "text/plain": [
       "' not u'"
      ]
     },
     "execution_count": 4,
     "metadata": {},
     "output_type": "execute_result"
    }
   ],
   "source": [
    "# Retrieve all characters between 6-12 index ecluding loc 12.\n",
    "Data=\"We can not update because it is immatuable\"\n",
    "print(Data[6:12]"
   ]
  },
  {
   "cell_type": "code",
   "execution_count": 17,
   "id": "495d4202",
   "metadata": {},
   "outputs": [
    {
     "name": "stdout",
     "output_type": "stream",
     "text": [
      "able\n"
     ]
    }
   ],
   "source": [
    "#retrieve last four characters of the string \n",
    "Data=\"We can not update because it is immatuable\"\n",
    "print(Data[-4:len(Data)])"
   ]
  },
  {
   "cell_type": "code",
   "execution_count": 18,
   "id": "260a0e0d",
   "metadata": {},
   "outputs": [
    {
     "name": "stdout",
     "output_type": "stream",
     "text": [
      "tuable\n"
     ]
    }
   ],
   "source": [
    "#retrieve last six characters of the string\n",
    "Data=\"We can not update because it is immatuable\"\n",
    "print(Data[-6:len(Data)])"
   ]
  },
  {
   "cell_type": "code",
   "execution_count": 9,
   "id": "32d19729",
   "metadata": {
    "scrolled": true
   },
   "outputs": [
    {
     "name": "stdout",
     "output_type": "stream",
     "text": [
      "54\n",
      "Not Weird\n"
     ]
    }
   ],
   "source": [
    "if __name__ == '__main__':\n",
    "    n = int(input().strip())\n",
    "    if n%2==0:\n",
    "        if n>=2 and n<=5:\n",
    "            print(\"Not Weird\")\n",
    "        elif n>=6 and n<=20:\n",
    "            print(\"Weird\")\n",
    "        else:\n",
    "            print(\"Not Weird\")\n",
    "    else:\n",
    "            (\"Weird\")               \n",
    "        \n",
    "     "
   ]
  },
  {
   "cell_type": "code",
   "execution_count": 3,
   "id": "2256cff0",
   "metadata": {},
   "outputs": [
    {
     "name": "stdout",
     "output_type": "stream",
     "text": [
      "[0, 1, 4, 9, 16, 25, 36, 49, 64, 81]\n"
     ]
    }
   ],
   "source": [
    "i=[i**2 for i in range(10)]\n",
    "print(i)"
   ]
  },
  {
   "cell_type": "code",
   "execution_count": 2,
   "id": "f4e41f04",
   "metadata": {},
   "outputs": [
    {
     "name": "stdout",
     "output_type": "stream",
     "text": [
      "[60, 50, 20, 40, 10, 80, 90, 70, 30]\n"
     ]
    }
   ],
   "source": [
    "i=[6,5,2,4,1,8,9,7,3]\n",
    "il=[i*10 for i in i]\n",
    "print(il)"
   ]
  },
  {
   "cell_type": "code",
   "execution_count": 26,
   "id": "d4dba396",
   "metadata": {},
   "outputs": [
    {
     "name": "stdout",
     "output_type": "stream",
     "text": [
      "I am Naveen from loharu distic bhiwani .My father name is sube singh  he is a small scale businessman and my mother name is silochna she is home maker. I am pursuing btech in mechanical branch. Now, i am doing data analyst course last 1 month.\n"
     ]
    }
   ],
   "source": [
    "print(\"I am Naveen from loharu distic bhiwani .My father name is sube singh  he is a small scale businessman and my mother name is silochna she is home maker. I am pursuing btech in mechanical branch. Now, i am doing data analyst course last 1 month.\")"
   ]
  },
  {
   "cell_type": "code",
   "execution_count": 3,
   "id": "621f6d1c",
   "metadata": {},
   "outputs": [
    {
     "name": "stdout",
     "output_type": "stream",
     "text": [
      "5\n",
      "6\n",
      "11\n"
     ]
    }
   ],
   "source": [
    "#Addition\n",
    "x=int(input())\n",
    "y=int(input())\n",
    "Addition=x+y\n",
    "print(Addition)"
   ]
  },
  {
   "cell_type": "code",
   "execution_count": 6,
   "id": "11896eaf",
   "metadata": {},
   "outputs": [
    {
     "name": "stdout",
     "output_type": "stream",
     "text": [
      "5\n",
      "6\n",
      "-1\n"
     ]
    }
   ],
   "source": [
    "#subtraction\n",
    "x=int(input())\n",
    "y=int(input())\n",
    "subtraction=x-y\n",
    "print(subtraction)"
   ]
  },
  {
   "cell_type": "code",
   "execution_count": 7,
   "id": "41905d0b",
   "metadata": {},
   "outputs": [
    {
     "name": "stdout",
     "output_type": "stream",
     "text": [
      "2\n",
      "3\n",
      "6\n"
     ]
    }
   ],
   "source": [
    "#multiplication\n",
    "x=int(input())\n",
    "y=int(input())\n",
    "multiplication=x*y\n",
    "print(multiplication)"
   ]
  },
  {
   "cell_type": "code",
   "execution_count": 1,
   "id": "79a8ae84",
   "metadata": {},
   "outputs": [
    {
     "name": "stdout",
     "output_type": "stream",
     "text": [
      "50\n",
      "5\n",
      "10.0\n"
     ]
    }
   ],
   "source": [
    "#division\n",
    "x=int(input())\n",
    "y=int(input())\n",
    "division=x/y\n",
    "print(division)"
   ]
  },
  {
   "cell_type": "code",
   "execution_count": 3,
   "id": "07b6619d",
   "metadata": {},
   "outputs": [
    {
     "name": "stdout",
     "output_type": "stream",
     "text": [
      "10\n",
      "2\n",
      "0\n"
     ]
    }
   ],
   "source": [
    "#modulus\n",
    "x=int(input())\n",
    "y=int(input())\n",
    "modulus=x%y\n",
    "print(modulus)"
   ]
  },
  {
   "cell_type": "code",
   "execution_count": 4,
   "id": "5cfec57e",
   "metadata": {},
   "outputs": [
    {
     "name": "stdout",
     "output_type": "stream",
     "text": [
      "2\n",
      "4\n",
      "16\n"
     ]
    }
   ],
   "source": [
    "#Exponent\n",
    "x=int(input())\n",
    "y=int(input())\n",
    "exponent=x**y\n",
    "print(exponent)"
   ]
  },
  {
   "cell_type": "code",
   "execution_count": 7,
   "id": "ae70ce4d",
   "metadata": {},
   "outputs": [
    {
     "name": "stdout",
     "output_type": "stream",
     "text": [
      "20\n",
      "10\n"
     ]
    }
   ],
   "source": [
    "#Swap two number\n",
    "x=10\n",
    "y=20\n",
    "tem=x\n",
    "x=y\n",
    "y=tem\n",
    "print(x)\n",
    "print(y)"
   ]
  },
  {
   "cell_type": "code",
   "execution_count": 8,
   "id": "ba50d3e8",
   "metadata": {},
   "outputs": [
    {
     "name": "stdout",
     "output_type": "stream",
     "text": [
      "10\n",
      "20\n"
     ]
    }
   ],
   "source": [
    "#swap teo number without third variable\n",
    "x=20\n",
    "y=10\n",
    "x,y=y,x\n",
    "print(x)\n",
    "print(y)"
   ]
  },
  {
   "cell_type": "code",
   "execution_count": 11,
   "id": "0362d437",
   "metadata": {},
   "outputs": [
    {
     "name": "stdout",
     "output_type": "stream",
     "text": [
      "12\n",
      "10\n",
      "25\n",
      "30.0\n"
     ]
    }
   ],
   "source": [
    "#simple interet\n",
    "p=int(input())\n",
    "r=int(input())\n",
    "t=int(input())\n",
    "si=(p*r*t)/100\n",
    "print(si)"
   ]
  },
  {
   "cell_type": "code",
   "execution_count": 12,
   "id": "228765ce",
   "metadata": {},
   "outputs": [
    {
     "name": "stdout",
     "output_type": "stream",
     "text": [
      "24\n",
      "55\n",
      "17\n",
      "87\n",
      "100\n",
      "56.6\n"
     ]
    }
   ],
   "source": [
    "#Average of five number\n",
    "num1=int(input())\n",
    "num2=int(input())\n",
    "num3=int(input())\n",
    "num4=int(input())\n",
    "num5=int(input())\n",
    "average=(num1+num2+num3+num4+num5)/5\n",
    "print(average)"
   ]
  },
  {
   "cell_type": "code",
   "execution_count": 15,
   "id": "62474982",
   "metadata": {},
   "outputs": [
    {
     "name": "stdout",
     "output_type": "stream",
     "text": [
      "8\n",
      "25\n",
      "2\n",
      "561\n"
     ]
    }
   ],
   "source": [
    "#discriminant of a quadratic equation\n",
    "a=int(input())\n",
    "b=int(input())\n",
    "c=int(input())\n",
    "discriminant=(b**2)-4*a*c\n",
    "print(discriminant)"
   ]
  },
  {
   "cell_type": "code",
   "execution_count": 16,
   "id": "2ab5dce6",
   "metadata": {},
   "outputs": [
    {
     "name": "stdout",
     "output_type": "stream",
     "text": [
      "2\n",
      "6\n",
      "12\n"
     ]
    }
   ],
   "source": [
    "#Area of rectangle\n",
    "l=int(input())\n",
    "w=int(input())\n",
    "rectangle=l*w\n",
    "print(rectangle)"
   ]
  },
  {
   "cell_type": "code",
   "execution_count": 17,
   "id": "4ae7f8b3",
   "metadata": {},
   "outputs": [
    {
     "name": "stdout",
     "output_type": "stream",
     "text": [
      "6\n",
      "36\n"
     ]
    }
   ],
   "source": [
    "#Area of square\n",
    "a=int(input())\n",
    "square=a**2\n",
    "print(square)"
   ]
  },
  {
   "cell_type": "code",
   "execution_count": 18,
   "id": "35fbcf08",
   "metadata": {},
   "outputs": [
    {
     "name": "stdout",
     "output_type": "stream",
     "text": [
      "2\n",
      "2\n",
      "2.0\n"
     ]
    }
   ],
   "source": [
    "#Area of triangle\n",
    "b=int(input())\n",
    "h=int(input())\n",
    "triangle=(1/2)*b*h\n",
    "print(triangle)"
   ]
  },
  {
   "cell_type": "code",
   "execution_count": 19,
   "id": "1004649b",
   "metadata": {},
   "outputs": [
    {
     "name": "stdout",
     "output_type": "stream",
     "text": [
      "2\n",
      "12.56\n"
     ]
    }
   ],
   "source": [
    "#Area of circle\n",
    "r=int(input())\n",
    "circle=(3.14)*(r**2)\n",
    "print(circle)"
   ]
  },
  {
   "cell_type": "code",
   "execution_count": 20,
   "id": "37b64bd1",
   "metadata": {},
   "outputs": [
    {
     "name": "stdout",
     "output_type": "stream",
     "text": [
      "6\n",
      "36\n"
     ]
    }
   ],
   "source": [
    "#power\n",
    "num=int(input())\n",
    "power=num**2\n",
    "print(power)"
   ]
  },
  {
   "cell_type": "code",
   "execution_count": 21,
   "id": "a18e1a97",
   "metadata": {},
   "outputs": [
    {
     "name": "stdout",
     "output_type": "stream",
     "text": [
      "3.9.12\n"
     ]
    }
   ],
   "source": [
    "#python version\n",
    "from platform import python_version\n",
    "\n",
    "print(python_version())"
   ]
  },
  {
   "cell_type": "code",
   "execution_count": 25,
   "id": "d876f83e",
   "metadata": {},
   "outputs": [
    {
     "name": "stdout",
     "output_type": "stream",
     "text": [
      "25000\n",
      "3750.0\n"
     ]
    }
   ],
   "source": [
    "#Net salary\n",
    "basic=int(input())\n",
    "da=basic*0.05\n",
    "hra=basic*0.07\n",
    "pf=basic*0.03\n",
    "net=da+hra+pf\n",
    "print(net)"
   ]
  }
 ],
 "metadata": {
  "kernelspec": {
   "display_name": "Python 3 (ipykernel)",
   "language": "python",
   "name": "python3"
  },
  "language_info": {
   "codemirror_mode": {
    "name": "ipython",
    "version": 3
   },
   "file_extension": ".py",
   "mimetype": "text/x-python",
   "name": "python",
   "nbconvert_exporter": "python",
   "pygments_lexer": "ipython3",
   "version": "3.9.12"
  }
 },
 "nbformat": 4,
 "nbformat_minor": 5
}
