{
 "cells": [
  {
   "cell_type": "code",
   "execution_count": 1,
   "id": "2b6fcc02",
   "metadata": {},
   "outputs": [
    {
     "name": "stdout",
     "output_type": "stream",
     "text": [
      "I am Naveen from loharu distic bhiwani .My father name is sube singh  he is a small scale businessman and my mother name is silochna she is home maker. I am pursuing btech in mechanical branch. Now, i am doing data analyst course last 1 month.\n"
     ]
    }
   ],
   "source": [
    "print(\"I am Naveen from loharu distic bhiwani .My father name is sube singh  he is a small scale businessman and my mother name is silochna she is home maker. I am pursuing btech in mechanical branch. Now, i am doing data analyst course last 1 month.\")"
   ]
  },
  {
   "cell_type": "code",
   "execution_count": 2,
   "id": "b426566c",
   "metadata": {},
   "outputs": [
    {
     "name": "stdout",
     "output_type": "stream",
     "text": [
      "5\n",
      "6\n",
      "11\n"
     ]
    }
   ],
   "source": [
    "#Addition\n",
    "x=int(input())\n",
    "y=int(input())\n",
    "Addition=x+y\n",
    "print(Addition)"
   ]
  },
  {
   "cell_type": "code",
   "execution_count": 3,
   "id": "0125b840",
   "metadata": {},
   "outputs": [
    {
     "name": "stdout",
     "output_type": "stream",
     "text": [
      "5\n",
      "6\n",
      "-1\n"
     ]
    }
   ],
   "source": [
    "#subtraction\n",
    "x=int(input())\n",
    "y=int(input())\n",
    "subtraction=x-y\n",
    "print(subtraction)"
   ]
  },
  {
   "cell_type": "code",
   "execution_count": 4,
   "id": "06902e2e",
   "metadata": {},
   "outputs": [
    {
     "name": "stdout",
     "output_type": "stream",
     "text": [
      "2\n",
      "3\n",
      "6\n"
     ]
    }
   ],
   "source": [
    "#multiplication\n",
    "x=int(input())\n",
    "y=int(input())\n",
    "multiplication=x*y\n",
    "print(multiplication)"
   ]
  },
  {
   "cell_type": "code",
   "execution_count": 5,
   "id": "cbc503ac",
   "metadata": {},
   "outputs": [
    {
     "name": "stdout",
     "output_type": "stream",
     "text": [
      "50\n",
      "5\n",
      "10.0\n"
     ]
    }
   ],
   "source": [
    "#division\n",
    "x=int(input())\n",
    "y=int(input())\n",
    "division=x/y\n",
    "print(division)"
   ]
  },
  {
   "cell_type": "code",
   "execution_count": 6,
   "id": "ee2fa043",
   "metadata": {},
   "outputs": [
    {
     "name": "stdout",
     "output_type": "stream",
     "text": [
      "10\n",
      "2\n",
      "0\n"
     ]
    }
   ],
   "source": [
    "#modulus\n",
    "x=int(input())\n",
    "y=int(input())\n",
    "modulus=x%y\n",
    "print(modulus)"
   ]
  },
  {
   "cell_type": "code",
   "execution_count": 7,
   "id": "d18f74ce",
   "metadata": {},
   "outputs": [
    {
     "name": "stdout",
     "output_type": "stream",
     "text": [
      "2\n",
      "4\n",
      "16\n"
     ]
    }
   ],
   "source": [
    "#Exponent\n",
    "x=int(input())\n",
    "y=int(input())\n",
    "exponent=x**y\n",
    "print(exponent)"
   ]
  },
  {
   "cell_type": "code",
   "execution_count": 8,
   "id": "d806e0d0",
   "metadata": {},
   "outputs": [
    {
     "name": "stdout",
     "output_type": "stream",
     "text": [
      "20\n",
      "10\n"
     ]
    }
   ],
   "source": [
    "#Swap two number\n",
    "x=10\n",
    "y=20\n",
    "tem=x\n",
    "x=y\n",
    "y=tem\n",
    "print(x)\n",
    "print(y)"
   ]
  },
  {
   "cell_type": "code",
   "execution_count": 9,
   "id": "4aa18d60",
   "metadata": {},
   "outputs": [
    {
     "name": "stdout",
     "output_type": "stream",
     "text": [
      "10\n",
      "20\n"
     ]
    }
   ],
   "source": [
    "#swap teo number without third variable\n",
    "x=20\n",
    "y=10\n",
    "x,y=y,x\n",
    "print(x)\n",
    "print(y)"
   ]
  },
  {
   "cell_type": "code",
   "execution_count": 10,
   "id": "7b1473c6",
   "metadata": {},
   "outputs": [
    {
     "name": "stdout",
     "output_type": "stream",
     "text": [
      "12\n",
      "10\n",
      "25\n",
      "30.0\n"
     ]
    }
   ],
   "source": [
    "#simple interet\n",
    "p=int(input())\n",
    "r=int(input())\n",
    "t=int(input())\n",
    "si=(p*r*t)/100\n",
    "print(si)"
   ]
  },
  {
   "cell_type": "code",
   "execution_count": 1,
   "id": "9d006c1c",
   "metadata": {},
   "outputs": [
    {
     "name": "stdout",
     "output_type": "stream",
     "text": [
      "24\n",
      "55\n",
      "17\n",
      "87\n",
      "100\n",
      "56.6\n"
     ]
    }
   ],
   "source": [
    "#Average of five number\n",
    "num1=int(input())\n",
    "num2=int(input())\n",
    "num3=int(input())\n",
    "num4=int(input())\n",
    "num5=int(input())\n",
    "average=(num1+num2+num3+num4+num5)/5\n",
    "print(average)"
   ]
  },
  {
   "cell_type": "code",
   "execution_count": 2,
   "id": "c806649c",
   "metadata": {},
   "outputs": [
    {
     "name": "stdout",
     "output_type": "stream",
     "text": [
      "8\n",
      "25\n",
      "2\n",
      "561\n"
     ]
    }
   ],
   "source": [
    "#discriminant of a quadratic equation\n",
    "a=int(input())\n",
    "b=int(input())\n",
    "c=int(input())\n",
    "discriminant=(b**2)-4*a*c\n",
    "print(discriminant)"
   ]
  },
  {
   "cell_type": "code",
   "execution_count": 3,
   "id": "c659e806",
   "metadata": {},
   "outputs": [
    {
     "name": "stdout",
     "output_type": "stream",
     "text": [
      "2\n",
      "6\n",
      "12\n"
     ]
    }
   ],
   "source": [
    "#Area of rectangle\n",
    "l=int(input())\n",
    "w=int(input())\n",
    "rectangle=l*w\n",
    "print(rectangle)"
   ]
  },
  {
   "cell_type": "code",
   "execution_count": 4,
   "id": "55ec39e7",
   "metadata": {},
   "outputs": [
    {
     "name": "stdout",
     "output_type": "stream",
     "text": [
      "6\n",
      "36\n"
     ]
    }
   ],
   "source": [
    "#Area of square\n",
    "a=int(input())\n",
    "square=a**2\n",
    "print(square)"
   ]
  },
  {
   "cell_type": "code",
   "execution_count": 5,
   "id": "da333004",
   "metadata": {},
   "outputs": [
    {
     "name": "stdout",
     "output_type": "stream",
     "text": [
      "2\n",
      "2\n",
      "2.0\n"
     ]
    }
   ],
   "source": [
    "#Area of triangle\n",
    "b=int(input())\n",
    "h=int(input())\n",
    "triangle=(1/2)*b*h\n",
    "print(triangle)"
   ]
  },
  {
   "cell_type": "code",
   "execution_count": 6,
   "id": "d5b95736",
   "metadata": {},
   "outputs": [
    {
     "name": "stdout",
     "output_type": "stream",
     "text": [
      "2\n",
      "12.56\n"
     ]
    }
   ],
   "source": [
    "#Area of circle\n",
    "r=int(input())\n",
    "circle=(3.14)*(r**2)\n",
    "print(circle)"
   ]
  },
  {
   "cell_type": "code",
   "execution_count": 7,
   "id": "31543afa",
   "metadata": {},
   "outputs": [
    {
     "name": "stdout",
     "output_type": "stream",
     "text": [
      "6\n",
      "36\n"
     ]
    }
   ],
   "source": [
    "#power\n",
    "num=int(input())\n",
    "power=num**2\n",
    "print(power)"
   ]
  },
  {
   "cell_type": "code",
   "execution_count": 8,
   "id": "0a0a3033",
   "metadata": {},
   "outputs": [
    {
     "name": "stdout",
     "output_type": "stream",
     "text": [
      "3.9.12\n"
     ]
    }
   ],
   "source": [
    "#python version\n",
    "from platform import python_version\n",
    "\n",
    "print(python_version())"
   ]
  },
  {
   "cell_type": "code",
   "execution_count": 9,
   "id": "656cf0cb",
   "metadata": {},
   "outputs": [
    {
     "name": "stdout",
     "output_type": "stream",
     "text": [
      "25000\n",
      "3750.0\n"
     ]
    }
   ],
   "source": [
    "#Net salary\n",
    "basic=int(input())\n",
    "da=basic*0.05\n",
    "hra=basic*0.07\n",
    "pf=basic*0.03\n",
    "net=da+hra+pf\n",
    "print(net)"
   ]
  }
 ],
 "metadata": {
  "kernelspec": {
   "display_name": "Python 3 (ipykernel)",
   "language": "python",
   "name": "python3"
  },
  "language_info": {
   "codemirror_mode": {
    "name": "ipython",
    "version": 3
   },
   "file_extension": ".py",
   "mimetype": "text/x-python",
   "name": "python",
   "nbconvert_exporter": "python",
   "pygments_lexer": "ipython3",
   "version": "3.9.12"
  }
 },
 "nbformat": 4,
 "nbformat_minor": 5
}
